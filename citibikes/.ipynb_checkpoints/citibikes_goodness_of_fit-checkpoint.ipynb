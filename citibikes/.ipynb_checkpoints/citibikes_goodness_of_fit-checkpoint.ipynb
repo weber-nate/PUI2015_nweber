{
 "cells": [
  {
   "cell_type": "markdown",
   "metadata": {
    "collapsed": true
   },
   "source": [
    "#Assignment 3:\n",
    "    test if the distribution of ages can be modelled by a Gaussian\n",
    "    \n",
    "    1) all riders\n",
    "    \n",
    "    2) summer riders vs winder riders\n",
    "    \n",
    "    use 2 tests, you can use KS, AD, or get creative. use KL or chi2 like you did in Assignment2 or perhaps new ones!\n",
    "    \n",
    "    CHALLANGE! look for a better distribution to fit the data! see notes on how to input a number of different \n",
    "    distributions into the test, not just 'norm' and the few others available by keyword"
   ]
  },
  {
   "cell_type": "markdown",
   "metadata": {},
   "source": [
    "my usual imports and setups"
   ]
  },
  {
   "cell_type": "code",
   "execution_count": 48,
   "metadata": {
    "collapsed": false,
    "scrolled": true
   },
   "outputs": [
    {
     "name": "stdout",
     "output_type": "stream",
     "text": [
      "Populating the interactive namespace from numpy and matplotlib\n"
     ]
    }
   ],
   "source": [
    "import pylab as pl\n",
    "import pandas as pd\n",
    "import numpy as np\n",
    "%pylab inline\n",
    "\n",
    "import os\n",
    "\n",
    "#this makes my plots pretty! but it is totally not mandatory to do it\n",
    "#import json\n",
    "#s = json.load( open(os.getenv ('PUI2015')+\"/fbb_matplotlibrc.json\") )\n",
    "#pl.rcParams.update(s)\n",
    "\n",
    "#i know i will use scipy for the tests\n",
    "import scipy.stats"
   ]
  },
  {
   "cell_type": "markdown",
   "metadata": {},
   "source": [
    "I need 2 seasons, lets start reading in data from January 2015, and June 2015. \n",
    "One month is not a season. You should import data from other months in the winter as well, and then several summer months to get the other distribution. I am being lazy but you should not be. \n",
    "\n"
   ]
  },
  {
   "cell_type": "code",
   "execution_count": 49,
   "metadata": {
    "collapsed": false,
    "scrolled": false
   },
   "outputs": [
    {
     "name": "stdout",
     "output_type": "stream",
     "text": [
      "5162141\n",
      "3193337\n"
     ]
    }
   ],
   "source": [
    "#df_W=pd.read_csv('/Users/Nate/Downloads/201501-citibike-tripdata.csv')\n",
    "##print df_W.columns\n",
    "#df_S=pd.read_csv('/Users/Nate/Downloads/201507-citibike-tripdata.csv')\n",
    "\n",
    "\n",
    "#SS = Spring/Summer & FW = Fall/Winter\n",
    "\n",
    "months_SS_FILES = ['201503-citibike-tripdata.csv', '201504-citibike-tripdata.csv', '201505-citibike-tripdata.csv', \n",
    "                   '201506-citibike-tripdata.csv', '201507-citibike-tripdata.csv', '201508-citibike-tripdata.csv']\n",
    "\n",
    "months_FW_FILES = ['201409-citibike-tripdata.csv', '201410-citibike-tripdata.csv', '201411-citibike-tripdata.csv', \n",
    "                   '201412-citibike-tripdata.csv', '201501-citibike-tripdata.csv', '201502-citibike-tripdata.csv']\n",
    "\n",
    "SS_files = []\n",
    "FW_files = []\n",
    "\n",
    "SS_df = pd.DataFrame()\n",
    "FW_df = pd.DataFrame()\n",
    "\n",
    "for SS_month in months_SS_FILES:\n",
    "    SS_month_df = pd.read_csv('~/Downloads/%s' % SS_month)\n",
    "    SS_files.append(SS_month_df)\n",
    "SS_df = pd.concat(SS_files, ignore_index=True)\n",
    "\n",
    "for FW_month in months_FW_FILES:\n",
    "    FW_month_df = pd.read_csv('~/Downloads/%s' % FW_month)\n",
    "    FW_files.append(FW_month_df)\n",
    "FW_df = pd.concat(FW_files, ignore_index=True)\n",
    "\n",
    "print(len(SS_df.index))\n",
    "print(len(FW_df.index))\n"
   ]
  },
  {
   "cell_type": "markdown",
   "metadata": {},
   "source": [
    "## get the age like we did before, subscribers only cause otherwise the ages are really sparse anyways\n"
   ]
  },
  {
   "cell_type": "code",
   "execution_count": 50,
   "metadata": {
    "collapsed": true
   },
   "outputs": [],
   "source": [
    "#df is the dataframe where the content of the csv file is stored\n",
    "FW_df['age'] = 2015-FW_df['birth year'][(FW_df['usertype'] == 'Subscriber')]\n",
    "SS_df['age'] = 2015-SS_df['birth year'][(SS_df['usertype'] == 'Subscriber')]"
   ]
  },
  {
   "cell_type": "markdown",
   "metadata": {},
   "source": [
    "lets split age in 10 year bins. see the comment in assignment 1 about this"
   ]
  },
  {
   "cell_type": "code",
   "execution_count": 54,
   "metadata": {
    "collapsed": false
   },
   "outputs": [
    {
     "data": {
      "image/png": "[encoded data removed]",
      "text/plain": [
       "<matplotlib.figure.Figure at 0x11a991d50>"
      ]
     },
     "metadata": {},
     "output_type": "display_data"
    },
    {
     "data": {
      "image/png": "[encoded data removed]",
      "text/plain": [
       "<matplotlib.figure.Figure at 0x13095db10>"
      ]
     },
     "metadata": {},
     "output_type": "display_data"
    }
   ],
   "source": [
    "bins = np.arange(10, 99, 10)\n",
    "FW_df.age.groupby(pd.cut(FW_df.age, bins)).agg([count_nonzero]).plot(kind='bar', title=\"Winter\")\n",
    "W_age_dist = FW_df.age.groupby(pd.cut(FW_df.age, bins)).agg([count_nonzero])\n",
    "SS_df.age.groupby(pd.cut(SS_df.age, bins)).agg([count_nonzero]).plot(kind='bar', title=\"Summer\")\n",
    "S_age_dist = SS_df.age.groupby(pd.cut(SS_df.age, bins)).agg([count_nonzero])\n",
    "    "
   ]
  },
  {
   "cell_type": "markdown",
   "metadata": {},
   "source": [
    "how do they look? what should I expect? setting some expectation is useful as a sanity check!"
   ]
  },
  {
   "cell_type": "markdown",
   "metadata": {},
   "source": [
    "lets run the scipy KS test"
   ]
  },
  {
   "cell_type": "markdown",
   "metadata": {
    "collapsed": true
   },
   "source": [
    "#KS testsfor goodness of fit\n",
    "\n",
    "http://docs.scipy.org/doc/scipy/reference/generated/scipy.stats.kstest.html"
   ]
  },
  {
   "cell_type": "code",
   "execution_count": 55,
   "metadata": {
    "collapsed": false
   },
   "outputs": [
    {
     "name": "stdout",
     "output_type": "stream",
     "text": [
      "fall/winter, normal fit (1.0, 0.0)\n",
      "spring/summer, normal fit (1.0, 0.0)\n",
      "fall/winter, cauchy fit (0.98126110779129894, 0.0)\n",
      "spring/summer, cauchy fit (0.98103989934622393, 0.0)\n"
     ]
    }
   ],
   "source": [
    "#compare to normal\n",
    "#SS_df.age[~np.isnan(SS_df.age)], 'norm' \n",
    "ksW=scipy.stats.kstest(FW_df.age[~np.isnan(FW_df.age)], 'norm')\n",
    "\n",
    "#ksW=scipy.stats.kstest(W_age_dist, 'norm')\n",
    "ksS=scipy.stats.kstest(SS_df.age[~np.isnan(SS_df.age)], 'norm')\n",
    "\n",
    "print \"fall/winter, normal fit\", ksW\n",
    "print \"spring/summer, normal fit\", ksS\n",
    "\n",
    "#compare to cauchy \n",
    "\n",
    "ksW=scipy.stats.kstest(FW_df.age[~np.isnan(FW_df.age)], 'cauchy')\n",
    "ksS=scipy.stats.kstest(SS_df.age[~np.isnan(SS_df.age)], 'cauchy')\n",
    "print \"fall/winter, cauchy fit\", ksW\n",
    "print \"spring/summer, cauchy fit\", ksS"
   ]
  },
  {
   "cell_type": "markdown",
   "metadata": {},
   "source": [
    "#our ks tests are all returning p-values lower than 0.05 allowing us to reject the null that the sample follows the normal or cauchy distribution. "
   ]
  },
  {
   "cell_type": "markdown",
   "metadata": {},
   "source": [
    "the scipy KS test works with keywords only for scipy.stats distributions \n",
    "that take as a single argument the size of the sample, like norm and cauchy look them up to make sure I am right!\n",
    "if i want to test against a distribution which takes more arguments like Poisson, which in scipy.stats takes the \n",
    "lambda parameter and the size (2 arguments) i can pass the extra arguments in arg, like i do below: "
   ]
  },
  {
   "cell_type": "code",
   "execution_count": 56,
   "metadata": {
    "collapsed": false,
    "scrolled": true
   },
   "outputs": [
    {
     "name": "stdout",
     "output_type": "stream",
     "text": [
      "fall/winter, normal fit (1.0, 0.0)\n",
      "spring/summer, normal fit (1.0, 0.0)\n"
     ]
    }
   ],
   "source": [
    "ksW=scipy.stats.kstest(W_age_dist, 'gamma', args=(35,))\n",
    "ksS=scipy.stats.kstest(S_age_dist, 'gamma', args=(35,))\n",
    "\n",
    "print \"fall/winter, normal fit\", ksW\n",
    "print \"spring/summer, normal fit\", ksS"
   ]
  },
  {
   "cell_type": "markdown",
   "metadata": {},
   "source": [
    "or i can create my function separately, then call it: all i need to do is define a function that calls  like i am doing below. the size argument must come first, and the second argument of kstest will no longer be a string, but the function itself (what we would call a \"callable\")"
   ]
  },
  {
   "cell_type": "markdown",
   "metadata": {},
   "source": [
    "##TODO FOR YOU!\n",
    "\n",
    "-- repeat with the AD test, and/or any other tests you wish\n",
    "\n",
    "-- do you see differences in the sample? significant differences?\n",
    "\n",
    "-- do you dare (and this is indeed optional but could be fun) splitting the samples by up- and down-town?"
   ]
  },
  {
   "cell_type": "code",
   "execution_count": 60,
   "metadata": {
    "collapsed": false
   },
   "outputs": [
    {
     "name": "stdout",
     "output_type": "stream",
     "text": [
      "Spring-Summer, Normal fit 63259.3440649\n",
      "fall/winter, Normal fit 36761.4674704\n",
      "spring/summer, Exponential fit 1024013.13854\n",
      "fall/winter, Exponential fit 693538.354834\n"
     ]
    }
   ],
   "source": [
    "SS_and=scipy.stats.anderson(SS_df.age[~np.isnan(SS_df.age)], 'norm')\n",
    "FW_and=scipy.stats.anderson(FW_df.age[~np.isnan(FW_df.age)], 'norm')\n",
    "\n",
    "SS_and1=scipy.stats.anderson(SS_df.age[~np.isnan(SS_df.age)], 'expon')\n",
    "FW_and1=scipy.stats.anderson(FW_df.age[~np.isnan(FW_df.age)], 'expon')\n",
    "\n",
    "print \"Spring-Summer, Normal fit\", SS_and[0]\n",
    "print \"fall/winter, Normal fit\", FW_and[0]\n",
    "\n",
    "print \"spring/summer, Exponential fit\", SS_and1[0]\n",
    "print \"fall/winter, Exponential fit\", FW_and1[0]\n"
   ]
  },
  {
   "cell_type": "markdown",
   "metadata": {},
   "source": [
    "# All return huge values with the Anderson test which lead us to believe that our distributions do not follow the Normal or Exponential Distribution (duh)"
   ]
  },
  {
   "cell_type": "code",
   "execution_count": null,
   "metadata": {
    "collapsed": true
   },
   "outputs": [],
   "source": []
  }
 ],
 "metadata": {
  "kernelspec": {
   "display_name": "Python 2",
   "language": "python",
   "name": "python2"
  },
  "language_info": {
   "codemirror_mode": {
    "name": "ipython",
    "version": 2
   },
   "file_extension": ".py",
   "mimetype": "text/x-python",
   "name": "python",
   "nbconvert_exporter": "python",
   "pygments_lexer": "ipython2",
   "version": "2.7.10"
  }
 },
 "nbformat": 4,
 "nbformat_minor": 0
}
