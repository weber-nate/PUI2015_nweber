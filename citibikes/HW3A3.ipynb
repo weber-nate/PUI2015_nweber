{
 "cells": [
  {
   "cell_type": "markdown",
   "metadata": {},
   "source": [
    "Main Idea:  The start time of a ride is dependent on the age of the rider.  \n",
    "We will use Millenials (users born between 1980 and 2000) and non Millenials (users born outside of 1980-2000) as the age groups for this test.\n",
    "We will be using the data from January 2015 and limiting our sample size to \"Subscribers\" so we can use their date of birth to create a subset. Date of birth is not given for \"Customers\"\n",
    "\n",
    "Null Hypothesis: Age Group (Millenials and Non-Millenials) and late night riding (10PM-3AM) are independent \n",
    "\n",
    "Alternative Hypothesis: Age Group (Millenials and Non-Millenials) and late night riding (10PM-3AM) are dependent \n",
    "\n",
    "Confidence Level = 0.05"
   ]
  },
  {
   "cell_type": "code",
   "execution_count": 3,
   "metadata": {
    "collapsed": false
   },
   "outputs": [
    {
     "name": "stdout",
     "output_type": "stream",
     "text": [
      "Populating the interactive namespace from numpy and matplotlib\n"
     ]
    }
   ],
   "source": [
    "import os\n",
    "import csv\n",
    "import pylab as pl\n",
    "import pandas as pd\n",
    "import numpy as np\n",
    "%pylab inline"
   ]
  },
  {
   "cell_type": "code",
   "execution_count": 4,
   "metadata": {
    "collapsed": false
   },
   "outputs": [],
   "source": [
    "df = pd.read_csv('201501-citibike-tripdata.csv')"
   ]
  },
  {
   "cell_type": "code",
   "execution_count": 6,
   "metadata": {
    "collapsed": false
   },
   "outputs": [],
   "source": [
    "df['starthour'] = pd.DatetimeIndex(df['starttime']).hour\n",
    "df['STMillenial'] = df['starthour'][(df['usertype']=='Subscriber') & ((df['birth year']>=1980) & (df['birth year'] <=2000))]\n",
    "df['STNotMillenial'] = df['starthour'][(df['usertype']=='Subscriber') & ((df['birth year']<1980) | (df['birth year'] >2000))]\n",
    "#exclude all customers\n",
    "df = df[df.usertype!= 'Customer']\n",
    "#df.head"
   ]
  },
  {
   "cell_type": "code",
   "execution_count": 7,
   "metadata": {
    "collapsed": false
   },
   "outputs": [],
   "source": [
    "#Late Night Data Frame\n",
    "df2 = df.query('starthour < 3 or starthour >= 22')\n",
    "\n",
    "#Not Late Night Data Frame\n",
    "df3 = df.query('starthour>=3 and starthour < 22')"
   ]
  },
  {
   "cell_type": "markdown",
   "metadata": {
    "collapsed": true
   },
   "source": [
    "Chi Squared Test should be used for this data"
   ]
  },
  {
   "cell_type": "code",
   "execution_count": 8,
   "metadata": {
    "collapsed": false
   },
   "outputs": [],
   "source": [
    "#Total Subscribers\n",
    "totsubscribers = float(df['starttime'].count())\n",
    "#Total Late Night Subscribers\n",
    "totLN = float(df2['starttime'].count())\n",
    "#Total Not Late Night Subscribers\n",
    "totNLN = float(df3['starttime'].count())\n",
    "#total Millenials \n",
    "totMil = float(df['STMillenial'].count())\n",
    "#total NonMillenials\n",
    "totNonMil = float(df['STNotMillenial'].count())\n",
    "#total Millenials Late Night\n",
    "totMilLN = float(df2['STMillenial'].count())\n",
    "#total NonMillenials Late Night\n",
    "totNonMilLN = float(df2['STNotMillenial'].count())\n",
    "#total Millenials Not Late Night\n",
    "totMilNLN = float(df3['STMillenial'].count())\n",
    "#total NonMillenials Not Late Night\n",
    "totNonMilNLN = float(df3['STNotMillenial'].count())\n"
   ]
  },
  {
   "cell_type": "code",
   "execution_count": 9,
   "metadata": {
    "collapsed": false
   },
   "outputs": [
    {
     "name": "stdout",
     "output_type": "stream",
     "text": [
      "860.362058299\n"
     ]
    }
   ],
   "source": [
    "expected = float((totLN*totNLN*totMil*totNonMil))\n",
    "sample_values =  [[totNonMilLN, totMilLN], [totNonMilNLN, totMilNLN]]\n",
    "\n",
    "\n",
    "#make a chi squared statistic function\n",
    "chistat = lambda N, values, expect : float(N*((values[0][0]*values[1][1]-values[0][1]*values[1][0])**2)/(expect))\n",
    "\n",
    "\n",
    "print chistat(totsubscribers, sample_values, expected)\n"
   ]
  },
  {
   "cell_type": "markdown",
   "metadata": {},
   "source": [
    "We found a chi squared statistic of 860.36.\n",
    "This chi statistic far exceeds 3.84 and we are able to reject our null hypothesis with confidence levl of .05 (alpha)"
   ]
  },
  {
   "cell_type": "code",
   "execution_count": null,
   "metadata": {
    "collapsed": true
   },
   "outputs": [],
   "source": []
  }
 ],
 "metadata": {
  "kernelspec": {
   "display_name": "Python 2",
   "language": "python",
   "name": "python2"
  },
  "language_info": {
   "codemirror_mode": {
    "name": "ipython",
    "version": 2
   },
   "file_extension": ".py",
   "mimetype": "text/x-python",
   "name": "python",
   "nbconvert_exporter": "python",
   "pygments_lexer": "ipython2",
   "version": "2.7.10"
  }
 },
 "nbformat": 4,
 "nbformat_minor": 0
}
