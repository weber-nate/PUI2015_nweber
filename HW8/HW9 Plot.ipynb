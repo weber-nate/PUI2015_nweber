{
 "cells": [
  {
   "cell_type": "code",
   "execution_count": 2,
   "metadata": {
    "collapsed": true
   },
   "outputs": [],
   "source": [
    "import pandas as pd"
   ]
  },
  {
   "cell_type": "code",
   "execution_count": 3,
   "metadata": {
    "collapsed": true
   },
   "outputs": [],
   "source": [
    "sep14 = pd.read_csv('/Users/Nate/Downloads/201409-citibike-tripdata.csv')"
   ]
  },
  {
   "cell_type": "code",
   "execution_count": 4,
   "metadata": {
    "collapsed": false
   },
   "outputs": [
    {
     "name": "stdout",
     "output_type": "stream",
     "text": [
      "99315\n",
      "854572\n"
     ]
    }
   ],
   "source": [
    "sep14.columns\n",
    "sub = sep14[sep14['usertype'] != \"Customer\"]\n",
    "cust = sep14[sep14['usertype'] == \"Customer\"]\n",
    "print len(cust)\n",
    "print len(sub)"
   ]
  },
  {
   "cell_type": "code",
   "execution_count": 5,
   "metadata": {
    "collapsed": false
   },
   "outputs": [
    {
     "name": "stdout",
     "output_type": "stream",
     "text": [
      "[ 122354.  303444.  191948.  102241.   58289.   33711.   19104.   10207.\n",
      "    5188.    8086.]\n",
      "[  4236.  11795.  15563.  17069.  16570.  12464.      0.      0.      0.\n",
      "  21618.]\n",
      "[ 14.31757652  35.50830123  22.46130227  11.96400069   6.82084131\n",
      "   3.94478172   2.23550502   1.19439907   0.60708752   0.94620465]\n",
      "[  4.26521673  11.87635302  15.67034184  17.18672909  16.68428737\n",
      "  12.54996728   0.           0.           0.          21.76710467]\n"
     ]
    }
   ],
   "source": [
    "import numpy as np\n",
    "sbins = np.zeros(10)\n",
    "\n",
    "for n in sub['tripduration']:\n",
    "    if n < (5 * 60):\n",
    "        sbins[0] = sbins[0] + 1\n",
    "    elif n < (10 * 60):\n",
    "        sbins[1] = sbins[1] + 1\n",
    "    elif n < (15 * 60):\n",
    "        sbins[2] = sbins[2] + 1    \n",
    "    elif n < (20 * 60):\n",
    "        sbins[3] = sbins[3] + 1\n",
    "    elif n < (25 * 60):\n",
    "        sbins[4] = sbins[4] + 1\n",
    "    elif n < (30 * 60):\n",
    "        sbins[5] = sbins[5] + 1\n",
    "    elif n < (35 * 60):\n",
    "        sbins[6] = sbins[6] + 1\n",
    "    elif n < (40 * 60):\n",
    "        sbins[7] = sbins[7] + 1\n",
    "    elif n < (45 * 60):\n",
    "        sbins[8] = sbins[8] + 1\n",
    "    else:\n",
    "        sbins[9] = sbins[9] + 1\n",
    "\n",
    "cbins = np.zeros(10)\n",
    "for n in cust['tripduration']:\n",
    "    if n < (5 * 60):\n",
    "        cbins[0] = cbins[0] + 1\n",
    "    elif n < (10 * 60):\n",
    "        cbins[1] = cbins[1] + 1\n",
    "    elif n < (15 * 60):\n",
    "        cbins[2] = cbins[2] + 1    \n",
    "    elif n < (20 * 60):\n",
    "        cbins[3] = cbins[3] + 1\n",
    "    elif n < (25 * 60):\n",
    "        cbins[4] = cbins[4] + 1\n",
    "    elif n < (30 * 60):\n",
    "        cbins[5] = cbins[5] + 1\n",
    "    else:\n",
    "        cbins[9] = cbins[9] + 1\n",
    "a = np.zeros(10)\n",
    "b = np.zeros(10)\n",
    "\n",
    "s_total, c_total = sum(sbins), sum(cbins)\n",
    "\n",
    "a = (sbins/s_total)*100\n",
    "b = (cbins/c_total)*100\n",
    "\n",
    "\n",
    "    \n",
    "print sbins\n",
    "print cbins\n",
    "print a\n",
    "print b\n"
   ]
  },
  {
   "cell_type": "code",
   "execution_count": 6,
   "metadata": {
    "collapsed": false
   },
   "outputs": [
    {
     "data": {
      "text/plain": [
       "[0.65, 1.65, 2.65, 3.65, 4.65, 5.65, 6.825, 7.825, 8.825, 9.65]"
      ]
     },
     "execution_count": 6,
     "metadata": {},
     "output_type": "execute_result"
    }
   ],
   "source": [
    "Age_s = [.65, 1.65,2.65,3.65,4.65,5.65,6.825,7.825,8.825,9.65]\n",
    "for n in Age_s:\n",
    "    n = n - 0.35\n",
    "Age_c = [1,2,3,4,5,6,7,8,9,10]\n",
    "\n",
    "Age_s"
   ]
  },
  {
   "cell_type": "code",
   "execution_count": 7,
   "metadata": {
    "collapsed": false
   },
   "outputs": [
    {
     "name": "stdout",
     "output_type": "stream",
     "text": [
      "Populating the interactive namespace from numpy and matplotlib\n"
     ]
    }
   ],
   "source": [
    "import pylab as pl\n",
    "%pylab inline\n"
   ]
  },
  {
   "cell_type": "code",
   "execution_count": 8,
   "metadata": {
    "collapsed": false
   },
   "outputs": [
    {
     "name": "stderr",
     "output_type": "stream",
     "text": [
      "//anaconda/lib/python2.7/site-packages/matplotlib/__init__.py:855: UserWarning: svg.embed_char_paths is deprecated and replaced with svg.fonttype; please use the latter.\n",
      "  warnings.warn(self.msg_depr % (key, alt_key))\n"
     ]
    }
   ],
   "source": [
    "kelly_colors_hex = [\n",
    "    '#FFB300', # Vivid Yellow\n",
    "    '#803E75', # Strong Purple\n",
    "    '#FF6800', # Vivid Orange\n",
    "    '#A6BDD7', # Very Light Blue\n",
    "    '#C10020', # Vivid Red\n",
    "    '#CEA262', # Grayish Yellow\n",
    "    '#817066', # Medium Gray\n",
    "    '#007D34', # Vivid Green\n",
    "    '#F6768E', # Strong Purplish Pink\n",
    "    '#00538A', # Strong Blue\n",
    "    '#FF7A5C', # Strong Yellowish Pink\n",
    "    '#53377A', # Strong Violet\n",
    "    '#FF8E00', # Vivid Orange Yellow\n",
    "    '#B32851', # Strong Purplish Red\n",
    "    '#F4C800', # Vivid Greenish Yellow\n",
    "    '#7F180D', # Strong Reddish Brown\n",
    "    '#93AA00', # Vivid Yellowish Green\n",
    "    '#593315', # Deep Yellowish Brown\n",
    "    '#F13A13', # Vivid Reddish Orange\n",
    "    '#232C16', # Dark Olive Green\n",
    "    ]\n",
    "\n",
    "newparams = {\n",
    "  \"lines.linewidth\": 2.0,\n",
    "  \"axes.edgecolor\": \"#aaaaaa\",\n",
    "  \"patch.linewidth\": 1.0,\n",
    "  \"legend.fancybox\": 'false',\n",
    "  \"axes.color_cycle\": kelly_colors_hex,\n",
    "  \"axes.facecolor\": \"#ffffff\",\n",
    "  \"axes.labelsize\": \"large\",\n",
    "  \"axes.grid\": 'false',\n",
    "  \"patch.edgecolor\": \"#555555\",\n",
    "  \"axes.titlesize\": \"x-large\",\n",
    "  \"svg.embed_char_paths\": \"path\",\n",
    "}\n",
    "pl.rcParams.update(newparams)"
   ]
  },
  {
   "cell_type": "code",
   "execution_count": 9,
   "metadata": {
    "collapsed": false,
    "scrolled": false
   },
   "outputs": [
    {
     "data": {
      "text/plain": [
       "([<matplotlib.axis.XTick at 0x10b4780d0>,\n",
       "  <matplotlib.axis.XTick at 0x10989ff10>,\n",
       "  <matplotlib.axis.XTick at 0x10b478dd0>,\n",
       "  <matplotlib.axis.XTick at 0x10b460710>,\n",
       "  <matplotlib.axis.XTick at 0x10b44fe10>,\n",
       "  <matplotlib.axis.XTick at 0x10b564210>,\n",
       "  <matplotlib.axis.XTick at 0x10b564710>,\n",
       "  <matplotlib.axis.XTick at 0x10b564c90>,\n",
       "  <matplotlib.axis.XTick at 0x10b571410>,\n",
       "  <matplotlib.axis.XTick at 0x10b571b50>],\n",
       " <a list of 10 Text xticklabel objects>)"
      ]
     },
     "execution_count": 9,
     "metadata": {},
     "output_type": "execute_result"
    },
    {
     "data": {
      "image/png": "[encoded data removed]",
      "text/plain": [
       "<matplotlib.figure.Figure at 0x109883fd0>"
      ]
     },
     "metadata": {},
     "output_type": "display_data"
    }
   ],
   "source": [
    "\n",
    "pl.figure(figsize =(16,10))\n",
    "pl.bar(Age_s, a, width = 0.35, color='#FFB300', label = 'Subscriber')\n",
    "pl.bar(Age_c, b, width = 0.35, color='#803E75', label = 'Customer')\n",
    "pl.title('September 2014\\nPercent of Rides by Duration and User Type', fontsize = 30)\n",
    "pl.legend()\n",
    "pl.xlabel('Trip Duration (Minutes)', fontsize = 20)\n",
    "pl.ylabel('Percent of Rides by User Type', fontsize = 20)\n",
    "#c = ['0 - 5', '5 - 10', '10 - 15', '15 - 20', '20 - 25','25 - 30','30 - 35\\nCustomer Overtime', '35 - 40', '40 - 45','Subscriber Overtime']\n",
    "\n",
    "\n",
    "\n",
    "labels = ['5%','10%','15%','20%','25%','30%','35%']\n",
    "pl.yticks([5,10,15,20,25,30,35],labels, size = 14)\n",
    "pl.xticks(np.arange(1, 11, 1), ['0 - 5', '5 - 10', '10 - 15', '15 - 20', '20 - 25','25 - 30','30 - 35', '35 - 40', '40 - 45','Overtime\\n>30 Customer\\n>45 Subscriber'], size = 10, rotation = 30)\n",
    "\n",
    "#xlab = {1:'a',2:'a',3:'a',4:'a',5:'a',6:'a',7:'a',8:'a',9:'a',10:'a'}\n",
    "\n",
    "\n"
   ]
  },
  {
   "cell_type": "code",
   "execution_count": 38,
   "metadata": {
    "collapsed": false
   },
   "outputs": [
    {
     "ename": "NameError",
     "evalue": "name 'c' is not defined",
     "output_type": "error",
     "traceback": [
      "\u001b[0;31m---------------------------------------------------------------------------\u001b[0m",
      "\u001b[0;31mNameError\u001b[0m                                 Traceback (most recent call last)",
      "\u001b[0;32m<ipython-input-38-2d8c3eac089b>\u001b[0m in \u001b[0;36m<module>\u001b[0;34m()\u001b[0m\n\u001b[0;32m----> 1\u001b[0;31m \u001b[0mtype\u001b[0m\u001b[0;34m(\u001b[0m\u001b[0mc\u001b[0m\u001b[0;34m)\u001b[0m\u001b[0;34m\u001b[0m\u001b[0m\n\u001b[0m",
      "\u001b[0;31mNameError\u001b[0m: name 'c' is not defined"
     ]
    }
   ],
   "source": [
    "type(c)"
   ]
  },
  {
   "cell_type": "code",
   "execution_count": null,
   "metadata": {
    "collapsed": true
   },
   "outputs": [],
   "source": []
  }
 ],
 "metadata": {
  "kernelspec": {
   "display_name": "Python 2",
   "language": "python",
   "name": "python2"
  },
  "language_info": {
   "codemirror_mode": {
    "name": "ipython",
    "version": 2
   },
   "file_extension": ".py",
   "mimetype": "text/x-python",
   "name": "python",
   "nbconvert_exporter": "python",
   "pygments_lexer": "ipython2",
   "version": "2.7.10"
  }
 },
 "nbformat": 4,
 "nbformat_minor": 0
}
